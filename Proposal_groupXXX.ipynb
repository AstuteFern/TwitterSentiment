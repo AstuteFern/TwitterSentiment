{
 "cells": [
  {
   "cell_type": "markdown",
   "metadata": {},
   "source": [
    "# COGS 118B - Project Proposal"
   ]
  },
  {
   "cell_type": "markdown",
   "metadata": {},
   "source": [
    "# Names\n",
    "\n",
    "- Sukhman Virk\n",
    "- Athira Rajiv\n",
    "- Neil Bajaj\n",
    "- Yash Sharma\n",
    "- Lucas Fasting"
   ]
  },
  {
   "cell_type": "markdown",
   "metadata": {},
   "source": [
    "# Abstract \n",
    "In this project, we aim to advance customer satisfaction within the US airline industry using customer feedback in the form of Tweets. The data used is made up of ~14600 observations across 15 variables and includes information about the airline mentioned, the tweet, the sentiment of the tweet, and other relevant factors. We plan on converting the customer feedback into a numerical form through the utilization of NLP techniques such as TF-IDF. We can then use K-means or GMM clustering to group the customer feedback data into clusters, each of which represents a different sentiment. We will then further cluster these separated sentiments to analyze different areas to work on(negative feedback)  or to keep the same(positive feedback) for the airlines. Our goal is to gain insight into sentiments regarding various features of airlines to improve overall customer satisfaction. We measure the performance of the algorithm by using methods like the silhouette score and PCA visualization to see how clean our clusters look."
   ]
  },
  {
   "cell_type": "markdown",
   "metadata": {},
   "source": [
    "# Background\n",
    "\n",
    "Fill in the background and discuss the kind of prior work that has gone on in this research area here. **Use inline citation** to specify which references support which statements.  You can do that through HTML footnotes (demonstrated here). I used to reccommend Markdown footnotes (google is your friend) because they are simpler but recently I have had some problems with them working for me whereas HTML ones always work so far. So use the method that works for you, but do use inline citations.\n",
    "\n",
    "Here is an example of inline citation. After government genocide in the 20th century, real birds were replaced with surveillance drones designed to look just like birds<a name=\"lorenz\"></a>[<sup>[1]</sup>](#lorenznote). Use a minimum of 2 or 3 citations, but we prefer more <a name=\"admonish\"></a>[<sup>[2]</sup>](#admonishnote). You need enough citations to fully explain and back up important facts. \n",
    "\n",
    "Remeber you are trying to explain why someone would want to answer your question or why your hypothesis is in the form that you've stated. "
   ]
  },
  {
   "cell_type": "markdown",
   "metadata": {},
   "source": [
    "# Problem Statement\n",
    "\n",
    "The problem we are trying to solve is to improve customer satisfaction of customers using US Airlines. We decided to use clustering algorithms to form clusters of customer feedback data pulled from Twitter which are directed at various airlines operating in America. We then aim to identify clusters of different sentiments, which we can use to provide insight as to which airlines have the most satisfied customers and which areas each airline needs to work on to increase customer satisfaction. \n",
    "\n",
    "This problem is quantifiable because we can apply NLP to convert the text input into a numerical form. We can then input that numeric form into ML algorithms and extract data from there. We can use NLP techniques like TF-IDF and then use the data we get from there in our clustering algorithms such as K-Means or GMM clustering. The problem is measurable because we can measure how well our clustering has worked using metrics such as the silhouette score, which measures the cohesion and separation of the clusters. Further, the performance of the clustering algorithm can also be assessed visually using PCA by observing how well it groups customer feedback into distinct sentiments and themes in those respective sentiments. The problem is also replicable since customer feedback is a field that is always increasing in size and sentiment analysis can be performed on the newer data to monitor changes in customer sentiment and satisfaction over time. When the newer data is collected, the new data can be fed into the clustering model which can readjust itself to identify shifts in customer sentiment, ensuring airlines can be up to date on the changing customer expectations."
   ]
  },
  {
   "cell_type": "markdown",
   "metadata": {},
   "source": [
    "# Data\n",
    "\n",
    "https://www.kaggle.com/datasets/crowdflower/twitter-airline-sentiment/data\n",
    "\n",
    "This dataset has 15 variables and 14,600 observations. \n",
    "\n",
    "The observations involve the tweet in question(tweet id), the text in the tweet, the sentiment towards the airline from the tweet, the confidence of the sentiment being correct, the negative feedback in the response (if present), the confidence of the response being negative, the name of the airlines and such other factors.\n",
    "\n",
    "Some critical variables involve the text in the tweet, the airline company, the retweet count, the time zone, and the time the tweet was created. The time is left in because there might be a relation between the sentiment of the tweet and the time the tweet was posted.\n",
    "\n",
    "We will need to drop some irrelevant columns such as the name of the tweet author, tweet coordinates, tweet location, airline sentiment gold, negative reason gold, and we should further remove rows with negative reason confidence equal to 0. We will also need to replace all non-alphanumeric signs, punctuation signs, and duplicated white spaces with a single white space."
   ]
  },
  {
   "cell_type": "markdown",
   "metadata": {},
   "source": [
    "# Proposed Solution\n",
    "\n",
    "In this section, clearly describe a solution to the problem. The solution should be applicable to the project domain and appropriate for the dataset(s) or input(s) given. Provide enough detail (e.g., algorithmic description and/or theoretical properties) to convince us that your solution is applicable. Why might your solution work? Make sure to describe how the solution will be tested.  \n",
    "\n",
    "If you know details already, describe how (e.g., library used, function calls) you plan to implement the solution in a way that is reproducible.\n",
    "\n",
    "If it is appropriate to the problem statement, describe a benchmark model<a name=\"sota\"></a>[<sup>[3]</sup>](#sotanote) against which your solution will be compared. "
   ]
  },
  {
   "cell_type": "markdown",
   "metadata": {},
   "source": [
    "# Evaluation Metrics\n",
    "\n",
    "Propose at least one evaluation metric that can be used to quantify the performance of both the benchmark model and the solution model. The evaluation metric(s) you propose should be appropriate given the context of the data, the problem statement, and the intended solution. Describe how the evaluation metric(s) are derived and provide an example of their mathematical representations (if applicable). Complex evaluation metrics should be clearly defined and quantifiable (can be expressed in mathematical or logical terms)."
   ]
  },
  {
   "cell_type": "markdown",
   "metadata": {},
   "source": [
    "# Ethics & Privacy"
   ]
  },
  {
   "cell_type": "markdown",
   "metadata": {},
   "source": [
    "If your project has obvious potential concerns with ethics or data privacy discuss that here.  Almost every ML project put into production can have ethical implications if you use your imagination. Use your imagination. Get creative!\n",
    "\n",
    "Even if you can't come up with an obvious ethical concern that should be addressed, you should know that a large number of ML projects that go into producation have unintended consequences and ethical problems once in production. How will your team address these issues?\n",
    "\n",
    "Consider a tool to help you address the potential issues such as https://deon.drivendata.org"
   ]
  },
  {
   "cell_type": "markdown",
   "metadata": {},
   "source": [
    "# Team Expectations "
   ]
  },
  {
   "cell_type": "markdown",
   "metadata": {},
   "source": [
    "* Team Expectation 1: The team is expected to communicate through a group chat or Discord, holding meetings twice weekly on Tuesdays and Fridays. If a team member cannot attend a meeting, they must notify the group, who will then update them on the meeting's outcomes and gather their feedback to keep everyone informed.\n",
    "\n",
    "* Team Expectation 2: Should any internal disputes arise, we'll convene all team members to discuss and resolve the issue through open communication, with the group collectively deciding on the necessary steps to address the problem.\n",
    "\n",
    "* Team Expectation 3: During our meetings, we'll collaborate on the project and distribute any remaining tasks evenly among team members. Anyone wanting to propose changes to the project must share their ideas with the rest of the team.\n",
    "\n",
    "* Team Expectation 4: We expect all of the work to be completed to a high standard, with each team member taking responsibility for their contributions. Work submitted by any member will be reviewed by everyone else in the team before adding it to the jupyter notebook."
   ]
  },
  {
   "cell_type": "markdown",
   "metadata": {},
   "source": [
    "# Project Timeline Proposal"
   ]
  },
  {
   "cell_type": "markdown",
   "metadata": {},
   "source": [
    "| Meeting Date  | Meeting Time| Completed Before Meeting  | Discuss at Meeting |\n",
    "|---|---|---|---|\n",
    "| 2/12  |  3 PM |  N/A  | Determine best form of communication for our team; Discuss and decide on final project topic ideas; discuss potential datasets. | \n",
    "| 2/18  |  5 PM |  Background Research for our decided project topic. | Finalize Project dataset, project question and proposed solution. | \n",
    "| 2/20  | 2 PM  | Edit, finalize, and complete proposal; | Go over our project proposal to make sure everything is in order, Submit proposal. |\n",
    "| 2/25  | 4 PM  | Import & Wrangle Data ,do some EDA | Complete EDA, Discuss clustering ideas |\n",
    "| 3/4  | 2:30 PM  | Work on Clustering, Programming for project and start uncovering initial solutions. | Discuss finding and solutions and plan the last few steps of the project. |\n",
    "| 3/11  | 1 PM  | Complete analysis; Draft results/conclusion/discussion | Edit, finalize, check  and complete the project; List out all Solutions and conclusions. |\n",
    "| 3/19  | Before 11:59 PM  | N/A | Turn in Final Project  |"
   ]
  },
  {
   "cell_type": "markdown",
   "metadata": {},
   "source": [
    "# Footnotes\n",
    "<a name=\"lorenznote\"></a>1.[^](#lorenz): Lorenz, T. (9 Dec 2021) Birds Aren’t Real, or Are They? Inside a Gen Z Conspiracy Theory. *The New York Times*. https://www.nytimes.com/2021/12/09/technology/birds-arent-real-gen-z-misinformation.html<br> \n",
    "<a name=\"admonishnote\"></a>2.[^](#admonish): Also refs should be important to the background, not some randomly chosen vaguely related stuff. Include a web link if possible in refs as above.<br>\n",
    "<a name=\"sotanote\"></a>3.[^](#sota): Perhaps the current state of the art solution such as you see on [Papers with code](https://paperswithcode.com/sota). Or maybe not SOTA, but rather a standard textbook/Kaggle solution to this kind of problem\n"
   ]
  },
  {
   "cell_type": "code",
   "execution_count": null,
   "metadata": {},
   "outputs": [],
   "source": []
  }
 ],
 "metadata": {
  "kernelspec": {
   "display_name": "Python 3 (ipykernel)",
   "language": "python",
   "name": "python3"
  },
  "language_info": {
   "codemirror_mode": {
    "name": "ipython",
    "version": 3
   },
   "file_extension": ".py",
   "mimetype": "text/x-python",
   "name": "python",
   "nbconvert_exporter": "python",
   "pygments_lexer": "ipython3",
   "version": "3.9.5"
  }
 },
 "nbformat": 4,
 "nbformat_minor": 2
}
